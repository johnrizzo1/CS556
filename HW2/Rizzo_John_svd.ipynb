{
 "cells": [
  {
   "cell_type": "markdown",
   "id": "dc985390",
   "metadata": {},
   "source": [
    "Instructor: Nikhil Muralidhar\n",
    "\n",
    "Course: CS 556-C: Mathematical Foundations of Machine Learning\n",
    "\n",
    "Homework 2: Linear Algebra, Dimensionality Reduction, Probability & Differential Calculus, Problem 3\n",
    "\n",
    "Student: John Rizzo"
   ]
  },
  {
   "cell_type": "code",
   "execution_count": 23,
   "id": "eadc8dbb",
   "metadata": {},
   "outputs": [],
   "source": [
    "import numpy as np"
   ]
  },
  {
   "cell_type": "code",
   "execution_count": 24,
   "id": "1102c4df",
   "metadata": {},
   "outputs": [],
   "source": [
    "# Given Rating Matrix (replace '-' with NaN for easier handling)\n",
    "ratings = np.array([\n",
    "    [5.0,    4.5,    np.nan, np.nan, 1.0],\n",
    "    [np.nan, np.nan, 2.5,    5.0,    5.0],\n",
    "    [4.0,    4.5,    np.nan, np.nan, np.nan],\n",
    "    [np.nan, 1.5,    4.5,    np.nan, np.nan],\n",
    "    [1.0,    np.nan, np.nan, 4.0,    5.0],\n",
    "    [np.nan, np.nan, 4.5,    np.nan, np.nan]\n",
    "])"
   ]
  },
  {
   "cell_type": "code",
   "execution_count": 25,
   "id": "0625adf7",
   "metadata": {},
   "outputs": [],
   "source": [
    "# np.linalg.svd(ratings)"
   ]
  },
  {
   "cell_type": "code",
   "execution_count": 26,
   "id": "223ef7df",
   "metadata": {},
   "outputs": [],
   "source": [
    "S = np.load('S_new.npy')\n",
    "U = np.load('U_new.npy')\n",
    "V = np.load('V_transpose_new.npy')"
   ]
  },
  {
   "cell_type": "code",
   "execution_count": 27,
   "id": "f526b5c2",
   "metadata": {},
   "outputs": [
    {
     "name": "stdout",
     "output_type": "stream",
     "text": [
      "(a) Estimated rating for User 1 on Amelie: -2.03\n"
     ]
    }
   ],
   "source": [
    "# (a) Estimate User 1's rating for Amelie\n",
    "estimated_ratings = np.dot(U, np.dot(S, V))\n",
    "user1_amelie_estimated_rating = estimated_ratings[3]  # User 1, Amelie (index 3)\n",
    "print(f\"(a) Estimated rating for User 1 on Amelie: {user1_amelie_estimated_rating:.2f}\")"
   ]
  },
  {
   "cell_type": "code",
   "execution_count": 28,
   "id": "fff44ccc",
   "metadata": {},
   "outputs": [
    {
     "name": "stdout",
     "output_type": "stream",
     "text": [
      "(b) Strength of concept 1: 13.27\n"
     ]
    }
   ],
   "source": [
    "# (b) Strength of concept 1 in SVD decomposition\n",
    "strength_concept1 = S[0]  # First singular value\n",
    "print(f\"(b) Strength of concept 1: {strength_concept1:.2f}\")"
   ]
  },
  {
   "cell_type": "code",
   "execution_count": 29,
   "id": "b4861bdc",
   "metadata": {},
   "outputs": [
    {
     "name": "stdout",
     "output_type": "stream",
     "text": [
      "(c) Average rating for Harry Potter: 3.83\n"
     ]
    }
   ],
   "source": [
    "# (c) Average rating for Harry Potter\n",
    "harry_potter_ratings = ratings[:, 2]  # Ratings for Harry Potter (index 2)\n",
    "harry_potter_ratings = harry_potter_ratings[~np.isnan(harry_potter_ratings)]  # Remove NaNs\n",
    "average_harry_potter_rating = np.mean(harry_potter_ratings)\n",
    "print(f\"(c) Average rating for Harry Potter: {average_harry_potter_rating:.2f}\")\n"
   ]
  },
  {
   "cell_type": "code",
   "execution_count": 30,
   "id": "8d142940",
   "metadata": {},
   "outputs": [
    {
     "name": "stdout",
     "output_type": "stream",
     "text": [
      "(d) Movie with the highest overall rating: Amelie\n"
     ]
    }
   ],
   "source": [
    "# (d) Movie with the highest overall rating (using actual ratings)\n",
    "movie_means = np.nanmean(ratings, axis=0)  # Mean ratings for each movie\n",
    "highest_rated_movie_index = np.nanargmax(movie_means)\n",
    "movies = [\"Rambo\", \"Top-Gun\", \"Harry Potter\", \"Amelie\", \"Casablanca\"]\n",
    "highest_rated_movie = movies[highest_rated_movie_index]\n",
    "print(f\"(d) Movie with the highest overall rating: {highest_rated_movie}\")"
   ]
  }
 ],
 "metadata": {
  "kernelspec": {
   "display_name": "venv",
   "language": "python",
   "name": "python3"
  },
  "language_info": {
   "codemirror_mode": {
    "name": "ipython",
    "version": 3
   },
   "file_extension": ".py",
   "mimetype": "text/x-python",
   "name": "python",
   "nbconvert_exporter": "python",
   "pygments_lexer": "ipython3",
   "version": "3.12.7"
  }
 },
 "nbformat": 4,
 "nbformat_minor": 5
}
